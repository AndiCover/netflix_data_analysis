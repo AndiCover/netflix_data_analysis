{
  "nbformat": 4,
  "nbformat_minor": 0,
  "metadata": {
    "colab": {
      "name": "Netflix.ipynb",
      "provenance": [],
      "collapsed_sections": [],
      "authorship_tag": "ABX9TyPaJb0Xb6rEYJRr5U7q1xE7"
    },
    "kernelspec": {
      "name": "python3",
      "display_name": "Python 3"
    },
    "language_info": {
      "name": "python"
    }
  },
  "cells": [
    {
      "cell_type": "code",
      "execution_count": 1,
      "metadata": {
        "id": "LNnT3FYNpQ52"
      },
      "outputs": [],
      "source": [
        "import pandas as pd\n",
        "import matplotlib.pyplot as plt\n",
        "import seaborn as sns\n",
        "import numpy as np \n",
        "import seaborn as sns\n",
        "%matplotlib inline"
      ]
    },
    {
      "cell_type": "code",
      "source": [
        "data = pd.read_csv('ViewingActivity.csv')\n",
        "data.head(1)"
      ],
      "metadata": {
        "id": "YDd6JlY01Gur"
      },
      "execution_count": null,
      "outputs": []
    },
    {
      "cell_type": "code",
      "source": [
        "# Get the total watch duration for each profile\n",
        "\n",
        "data['Duration'] = pd.to_timedelta(data['Duration'])\n",
        "profile_duration = data[['Profile Name', 'Duration']]\n",
        "profile_duration = data.groupby('Profile Name')['Duration'].sum()\n",
        "profile_duration.sort_values(ascending=False)"
      ],
      "metadata": {
        "id": "MoNyzEAZse0K"
      },
      "execution_count": null,
      "outputs": []
    },
    {
      "cell_type": "code",
      "source": [
        "# Get the longest watched titles and their total duration\n",
        "data['Title (Short)'] = data['Title'].str.split(\":\", expand = False).str[0]\n",
        "most_watched = data.groupby(['Profile Name', 'Title (Short)'])['Duration'].sum()\n",
        "most_watched = most_watched.sort_values(ascending=False)\n",
        "\n",
        "most_watched.head(40)"
      ],
      "metadata": {
        "id": "dTxcryIVxw-8"
      },
      "execution_count": null,
      "outputs": []
    },
    {
      "cell_type": "code",
      "source": [
        "profile_count = data['Profile Name'].value_counts()\n",
        "plt.figure(figsize=(8,5))\n",
        "plt.bar(profile_count.index, profile_count.values, color='teal')\n",
        "plt.ylabel('Freq', fontsize=14)\n",
        "plt.xlabel('Profile Names', fontsize=14)\n",
        "plt.xticks(fontsize=11)\n",
        "plt.title('Viewing Frequency of each Profile', fontsize=16)\n",
        "plt.show()"
      ],
      "metadata": {
        "id": "Kwm3sikGDWqN"
      },
      "execution_count": null,
      "outputs": []
    },
    {
      "cell_type": "code",
      "source": [
        "country_count = data['Country'].value_counts()\n",
        "\n",
        "plt.figure(figsize=(8,5))\n",
        "plt.bar(country_count.index, country_count.values, color=\"crimson\")\n",
        "plt.xlabel(\"Countries\", fontsize=14)\n",
        "plt.ylabel(\"Frequency (log scale)\", fontsize=14)\n",
        "plt.xticks(rotation=45, ha='right', fontsize=10)\n",
        "plt.title(\"Locations Used to Access Netflix\", fontsize=16)\n",
        "plt.yscale(\"log\", basey=10) \n",
        "plt.show()"
      ],
      "metadata": {
        "id": "jQxnHkRPG7QK"
      },
      "execution_count": null,
      "outputs": []
    },
    {
      "cell_type": "code",
      "source": [
        "data.groupby(['Profile Name', 'Country']).size().unstack().plot(kind='bar', stacked=True)\n",
        "plt.title('Locations Used to Access Netflix for Each Profile', fontsize=14)\n",
        "plt.legend(loc=(1.05, 0))\n",
        "plt.show()"
      ],
      "metadata": {
        "id": "I18eNjpVIQuS"
      },
      "execution_count": null,
      "outputs": []
    },
    {
      "cell_type": "code",
      "source": [
        "device_count = data['Device Type'].value_counts()\n",
        "plt.figure(figsize=(10,5))\n",
        "plt.barh(device_count.index, device_count.values, color=\"mediumturquoise\")\n",
        "plt.xlabel(\"Freq\", fontsize=14)\n",
        "plt.ylabel(\"Devices used\", fontsize=14)\n",
        "plt.xticks(fontsize=10)\n",
        "plt.title(\"Devices Used to Access Netflix\", fontsize=16)\n",
        "plt.gca().invert_yaxis() \n",
        "plt.show()"
      ],
      "metadata": {
        "id": "7G1qRo78Iu6V"
      },
      "execution_count": null,
      "outputs": []
    },
    {
      "cell_type": "code",
      "source": [
        "data.groupby(['Profile Name','Device Type']).size().unstack().plot(kind='bar', stacked=True, colormap=\"tab20b\")\n",
        "plt.title(\"Devices Used for Each Profile\")\n",
        "plt.legend(loc=(1.05, 0))\n",
        "plt.show()"
      ],
      "metadata": {
        "id": "PRe_D2bVI2DQ"
      },
      "execution_count": null,
      "outputs": []
    },
    {
      "cell_type": "code",
      "source": [
        "pd.set_option('display.max_rows', None)\n",
        "data_search_history = pd.read_csv('SearchHistory.csv')\n",
        "displayed_name = data_search_history.drop_duplicates(['Query Typed', 'Profile Name'])[['Query Typed', 'Profile Name']]\n",
        "displayed_name = displayed_name.sort_values(by='Query Typed', ascending=False)\n",
        "displayed_name.head(500)"
      ],
      "metadata": {
        "id": "NGjxejtT5wId"
      },
      "execution_count": null,
      "outputs": []
    },
    {
      "cell_type": "code",
      "source": [
        "start_times = data[['Profile Name', 'Start Time', 'Duration']]\n",
        "start_times['Start Date'] = pd.to_datetime(start_times['Start Time']).dt.date\n",
        "start_times.groupby(['Profile Name', 'Start Date'])['Start Date', 'Duration'].sum().sort_values(by = ['Duration'], ascending = False).head(20)"
      ],
      "metadata": {
        "id": "Q9EHjo4uNcMk"
      },
      "execution_count": null,
      "outputs": []
    },
    {
      "cell_type": "code",
      "source": [
        "plt.figure(figsize=(10,5))\n",
        "plt.barh(start_times['Start Date'], start_times['Duration'], color=\"blue\")\n",
        "plt.xlabel(\"Duration\", fontsize=14)\n",
        "plt.ylabel(\"Start Date\", fontsize=14)\n",
        "plt.xticks(fontsize=10)\n",
        "plt.title(\"Watch duration per date\", fontsize=16)\n",
        "plt.gca().invert_yaxis() \n",
        "plt.show()"
      ],
      "metadata": {
        "id": "x98XYQuqUL6p"
      },
      "execution_count": null,
      "outputs": []
    },
    {
      "cell_type": "markdown",
      "source": [],
      "metadata": {
        "id": "UYACEbvPtAmn"
      }
    }
  ]
}