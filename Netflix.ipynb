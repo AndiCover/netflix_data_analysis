{
  "nbformat": 4,
  "nbformat_minor": 0,
  "metadata": {
    "colab": {
      "name": "Netflix.ipynb",
      "provenance": [],
      "collapsed_sections": [],
      "authorship_tag": "ABX9TyNQFtmjrET+q7gW7PDxXPvc"
    },
    "kernelspec": {
      "name": "python3",
      "display_name": "Python 3"
    },
    "language_info": {
      "name": "python"
    }
  },
  "cells": [
    {
      "cell_type": "code",
      "execution_count": 75,
      "metadata": {
        "id": "LNnT3FYNpQ52"
      },
      "outputs": [],
      "source": [
        "import pandas as pd\n",
        "import matplotlib.pyplot as plt\n",
        "import seaborn as sns\n",
        "import numpy as np \n",
        "import seaborn as sns\n",
        "%matplotlib inline"
      ]
    },
    {
      "cell_type": "code",
      "source": [
        "# Read data from file\n",
        "data = pd.read_csv('ViewingActivity.csv')\n",
        "data.head(1)"
      ],
      "metadata": {
        "id": "YDd6JlY01Gur"
      },
      "execution_count": null,
      "outputs": []
    },
    {
      "cell_type": "code",
      "source": [
        "# Get the total watch duration for each profile\n",
        "data['Duration'] = pd.to_timedelta(data['Duration'])\n",
        "profile_duration = data[['Profile Name', 'Duration']]\n",
        "profile_duration = data.groupby('Profile Name')['Duration'].sum()\n",
        "profile_duration = profile_duration.sort_values(ascending = False)\n",
        "profile_duration"
      ],
      "metadata": {
        "id": "MoNyzEAZse0K"
      },
      "execution_count": null,
      "outputs": []
    },
    {
      "cell_type": "code",
      "source": [
        "# Plot the total watch duration of each profile\n",
        "plt.figure(figsize=(8,5))\n",
        "plt.bar(profile_duration.index, profile_duration.values, color='green')\n",
        "plt.ylabel('Duration', fontsize=14)\n",
        "plt.xlabel('Profile Names', fontsize=14)\n",
        "plt.xticks(fontsize=11)\n",
        "plt.title('Viewing Duration of each Profile', fontsize=16)\n",
        "plt.show()"
      ],
      "metadata": {
        "id": "EdDE4WBIBS2m"
      },
      "execution_count": null,
      "outputs": []
    },
    {
      "cell_type": "code",
      "source": [
        "# Get the longest watched titles and their total duration\n",
        "data['Title (Short)'] = data['Title'].str.split(\":\", expand = False).str[0]\n",
        "most_watched = data.groupby(['Profile Name', 'Title (Short)'])['Duration'].sum()\n",
        "most_watched = most_watched.sort_values(ascending=False)\n",
        "\n",
        "most_watched.head(40)"
      ],
      "metadata": {
        "id": "dTxcryIVxw-8"
      },
      "execution_count": null,
      "outputs": []
    },
    {
      "cell_type": "code",
      "source": [
        "# Plot the viewing frequency of each profile\n",
        "profile_count = data['Profile Name'].value_counts()\n",
        "plt.figure(figsize=(8,5))\n",
        "plt.bar(profile_count.index, profile_count.values, color='green')\n",
        "plt.ylabel('Frequency', fontsize=14)\n",
        "plt.xlabel('Profile Names', fontsize=14)\n",
        "plt.xticks(fontsize=11)\n",
        "plt.title('Viewing Frequency of each Profile', fontsize=16)\n",
        "plt.show()"
      ],
      "metadata": {
        "id": "Kwm3sikGDWqN"
      },
      "execution_count": null,
      "outputs": []
    },
    {
      "cell_type": "code",
      "source": [
        "# Get the locations used to access Netflix\n",
        "country_count"
      ],
      "metadata": {
        "id": "6nGD68CAFuiS"
      },
      "execution_count": null,
      "outputs": []
    },
    {
      "cell_type": "code",
      "source": [
        "# Plot the locations used to access netflix\n",
        "country_count = data['Country'].value_counts()\n",
        "\n",
        "plt.figure(figsize=(8,5))\n",
        "plt.bar(country_count.index, country_count.values, color=\"red\")\n",
        "plt.xlabel(\"Countries\", fontsize=14)\n",
        "plt.ylabel(\"Frequency (log scale)\", fontsize=14)\n",
        "plt.xticks(rotation=45, ha='right', fontsize=10)\n",
        "plt.title(\"Locations Used to Access Netflix\", fontsize=16)\n",
        "plt.yscale(\"log\", basey=10) \n",
        "plt.show()"
      ],
      "metadata": {
        "id": "jQxnHkRPG7QK"
      },
      "execution_count": null,
      "outputs": []
    },
    {
      "cell_type": "code",
      "source": [
        "# Get the locations used to access netflix for each profile\n",
        "countries = data.groupby(['Profile Name', 'Country'])['Country'].count().sort_values(ascending = False)\n",
        "countries"
      ],
      "metadata": {
        "id": "nvh7sTTSF8o2"
      },
      "execution_count": null,
      "outputs": []
    },
    {
      "cell_type": "code",
      "source": [
        "# Plot the locations used to access netflix for each profile\n",
        "data.groupby(['Profile Name', 'Country']).size().unstack().plot(kind='bar', stacked=True)\n",
        "plt.title('Locations Used to Access Netflix for Each Profile', fontsize=14)\n",
        "plt.legend(loc=(1.05, 0))\n",
        "plt.show()"
      ],
      "metadata": {
        "id": "I18eNjpVIQuS"
      },
      "execution_count": null,
      "outputs": []
    },
    {
      "cell_type": "code",
      "source": [
        "# Get all devices used to access netflix\n",
        "device_count = data['Device Type'].value_counts()\n",
        "device_count"
      ],
      "metadata": {
        "id": "xHfClwg4HoKW"
      },
      "execution_count": null,
      "outputs": []
    },
    {
      "cell_type": "code",
      "source": [
        "# Plot all devices used to access netflix\n",
        "device_count = data['Device Type'].value_counts()\n",
        "plt.figure(figsize=(10,5))\n",
        "plt.barh(device_count.index, device_count.values, color=\"orange\")\n",
        "plt.xlabel(\"Frequency\", fontsize=14)\n",
        "plt.ylabel(\"Devices used\", fontsize=14)\n",
        "plt.xticks(fontsize=10)\n",
        "plt.title(\"Devices Used to Access Netflix\", fontsize=16)\n",
        "plt.gca().invert_yaxis() \n",
        "plt.show()"
      ],
      "metadata": {
        "id": "7G1qRo78Iu6V"
      },
      "execution_count": null,
      "outputs": []
    },
    {
      "cell_type": "code",
      "source": [
        "# Get the devices used per profile\n",
        "devices_per_profile = data.groupby(['Profile Name','Device Type']).size()\n",
        "devices_per_profile = devices_per_profile.sort_values(ascending = False)\n",
        "devices_per_profile"
      ],
      "metadata": {
        "id": "ZvnkvIHEHyN6"
      },
      "execution_count": null,
      "outputs": []
    },
    {
      "cell_type": "code",
      "source": [
        "# Plot devices used per profile\n",
        "devices_per_profile.unstack().plot(kind='bar', stacked=True, colormap=\"tab20b\")\n",
        "plt.title(\"Devices Used for Each Profile\")\n",
        "plt.legend(loc=(1.05, 0))\n",
        "plt.show()"
      ],
      "metadata": {
        "id": "PRe_D2bVI2DQ"
      },
      "execution_count": null,
      "outputs": []
    },
    {
      "cell_type": "code",
      "source": [
        "# Get the search history \n",
        "pd.set_option('display.max_rows', None)\n",
        "data_search_history = pd.read_csv('SearchHistory.csv')\n",
        "displayed_name = data_search_history.drop_duplicates(['Query Typed', 'Profile Name'])[['Query Typed', 'Profile Name']]\n",
        "displayed_name = displayed_name.sort_values(by='Query Typed', ascending=False)\n",
        "displayed_name.head(500)"
      ],
      "metadata": {
        "id": "NGjxejtT5wId"
      },
      "execution_count": null,
      "outputs": []
    },
    {
      "cell_type": "code",
      "source": [
        "# Get the total watch duration duration by date\n",
        "start_times = data[['Profile Name', 'Start Time', 'Duration']]\n",
        "start_times['Start Date'] = pd.to_datetime(start_times['Start Time']).dt.date\n",
        "start_times.groupby(['Profile Name', 'Start Date'])['Start Date', 'Duration'].sum().sort_values(by = ['Duration'], ascending = False).head(20)"
      ],
      "metadata": {
        "id": "Q9EHjo4uNcMk"
      },
      "execution_count": null,
      "outputs": []
    },
    {
      "cell_type": "code",
      "source": [
        "# Plot the total watch duration per date\n",
        "plt.figure(figsize=(10,5))\n",
        "plt.barh(start_times['Start Date'], start_times['Duration'], color=\"blue\")\n",
        "plt.xlabel(\"Duration\", fontsize=14)\n",
        "plt.ylabel(\"Start Date\", fontsize=14)\n",
        "plt.xticks(fontsize=10)\n",
        "plt.title(\"Watch duration per date\", fontsize=16)\n",
        "plt.gca().invert_yaxis() \n",
        "plt.show()"
      ],
      "metadata": {
        "id": "x98XYQuqUL6p"
      },
      "execution_count": null,
      "outputs": []
    },
    {
      "cell_type": "markdown",
      "source": [],
      "metadata": {
        "id": "UYACEbvPtAmn"
      }
    }
  ]
}